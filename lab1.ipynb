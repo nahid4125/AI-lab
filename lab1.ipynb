{
  "nbformat": 4,
  "nbformat_minor": 0,
  "metadata": {
    "colab": {
      "provenance": [],
      "mount_file_id": "1UKhI3wO1Eu2BFoY6EoTgCVLyfS5W9_BX",
      "authorship_tag": "ABX9TyPwTjCcuFtLjyOjyg7BYw3f",
      "include_colab_link": true
    },
    "kernelspec": {
      "name": "python3",
      "display_name": "Python 3"
    },
    "language_info": {
      "name": "python"
    }
  },
  "cells": [
    {
      "cell_type": "markdown",
      "metadata": {
        "id": "view-in-github",
        "colab_type": "text"
      },
      "source": [
        "<a href=\"https://colab.research.google.com/github/nahid4125/AI-lab/blob/main/lab1.ipynb\" target=\"_parent\"><img src=\"https://colab.research.google.com/assets/colab-badge.svg\" alt=\"Open In Colab\"/></a>"
      ]
    },
    {
      "cell_type": "code",
      "execution_count": null,
      "metadata": {
        "colab": {
          "base_uri": "https://localhost:8080/"
        },
        "id": "1Emv3i9ROEc7",
        "outputId": "1f581d89-6bd0-4232-9a80-f1e53ffe7f8a"
      },
      "outputs": [
        {
          "output_type": "stream",
          "name": "stdout",
          "text": [
            "['cse', 'swe', 'bba', 'law', 'nfe', 'pharmacy', 'eee']\n",
            "7\n",
            "<class 'list'>\n",
            "swe\n",
            "eee\n",
            "['bba', 'law']\n",
            "['cse', 'swe', 'bba']\n",
            "['nfe', 'pharmacy', 'eee']\n"
          ]
        }
      ],
      "source": [
        "list1 = [\"cse\", \"swe\", \"bba\", \"law\", \"nfe\", \"pharmacy\", \"eee\"]\n",
        "\n",
        "print(list1)\n",
        "print(len(list1))\n",
        "print(type(list1))\n",
        "print(list1[1])\n",
        "print(list1[-1])\n",
        "print(list1[2:4])\n",
        "print(list1[:3])\n",
        "print(list1[4:])"
      ]
    },
    {
      "cell_type": "code",
      "source": [
        "list2 = [\"english\", \"bangla\", \"math\"]\n",
        "list2[1] = \"ict\"\n",
        "print(list2)\n",
        "\n",
        "list2.insert(2, \"physics\")\n",
        "print(list2)\n",
        "\n",
        "list2.append(\"chemisty\")\n",
        "print(list2)\n",
        "\n",
        "list2.remove(\"math\")\n",
        "print(list2)\n",
        "\n",
        "list2.sort()\n",
        "print(list2)\n",
        "\n",
        "flist = list2.copy()\n",
        "print(flist)\n",
        "\n",
        "list3 = [\"a\", \"b\", \"c\"]\n",
        "list4 = [1, 2, 3]\n",
        "\n",
        "list5 = list1 + list2\n",
        "print(list5)"
      ],
      "metadata": {
        "colab": {
          "base_uri": "https://localhost:8080/"
        },
        "id": "le655Cq1OQfe",
        "outputId": "34065ae8-3889-4c0a-f286-2d8ca2acc71d"
      },
      "execution_count": null,
      "outputs": [
        {
          "output_type": "stream",
          "name": "stdout",
          "text": [
            "['english', 'ict', 'math']\n",
            "['english', 'ict', 'physics', 'math']\n",
            "['english', 'ict', 'physics', 'math', 'chemisty']\n",
            "['english', 'ict', 'physics', 'chemisty']\n",
            "['chemisty', 'english', 'ict', 'physics']\n",
            "['chemisty', 'english', 'ict', 'physics']\n",
            "['cse', 'swe', 'bba', 'law', 'nfe', 'pharmacy', 'eee', 'chemisty', 'english', 'ict', 'physics']\n"
          ]
        }
      ]
    },
    {
      "cell_type": "code",
      "source": [
        "x = (\"a\", \"b\", \"c\", \"d\", \"e\", \"f\", \"g\", \"h\")\n",
        "y = slice(3, 5)\n",
        "print(x[y])\n",
        "\n",
        "y = slice(0, 8, 3)\n",
        "print(x[y])"
      ],
      "metadata": {
        "colab": {
          "base_uri": "https://localhost:8080/"
        },
        "id": "SVH-xHHAOVN1",
        "outputId": "691dc499-7142-460a-b471-e5779e9b1b3d"
      },
      "execution_count": null,
      "outputs": [
        {
          "output_type": "stream",
          "name": "stdout",
          "text": [
            "('d', 'e')\n",
            "('a', 'd', 'g')\n"
          ]
        }
      ]
    },
    {
      "cell_type": "code",
      "source": [
        "f= open(\"abc.txt\")\n",
        "f = open(\"abc.txt\", \"r\")\n",
        "print(f.read())\n"
      ],
      "metadata": {
        "id": "eHi8TJBvOaKe",
        "colab": {
          "base_uri": "https://localhost:8080/"
        },
        "outputId": "e2413a68-f4df-4e7a-b2d5-334dc3d4e277"
      },
      "execution_count": null,
      "outputs": [
        {
          "output_type": "stream",
          "name": "stdout",
          "text": [
            "asdsa\n",
            "sadjas\n",
            "saodpwrite\n",
            "asd\n",
            "sawritewritewritewrite\n"
          ]
        }
      ]
    },
    {
      "cell_type": "code",
      "source": [
        "f = open(\"abc.txt\", \"a\")\n",
        "f.write(\"write\")\n",
        "f.close()\n",
        "\n",
        "\n",
        "f = open(\"abc.txt\", \"r\")\n",
        "print(f.read())"
      ],
      "metadata": {
        "id": "Q3g3RN6NbAIz",
        "outputId": "25b3eee9-5350-440c-eb3d-a5447fc849ec",
        "colab": {
          "base_uri": "https://localhost:8080/"
        }
      },
      "execution_count": null,
      "outputs": [
        {
          "output_type": "stream",
          "name": "stdout",
          "text": [
            "asdsa\n",
            "sadjas\n",
            "saodpwrite\n",
            "asd\n",
            "sawritewritewritewritewrite\n"
          ]
        }
      ]
    }
  ]
}